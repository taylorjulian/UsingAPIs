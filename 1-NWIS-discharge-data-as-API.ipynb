{
 "cells": [
  {
   "cell_type": "markdown",
   "metadata": {},
   "source": [
    "# Accessing the NWIS Discharge data  - as an API\n",
    "In the last session, we used `urllib` and `pandas` to retrieve data from a static URL. Here we refine that procedure to again retrieve water flow data from the NWIS website. What's different this time, however, is that we examine the URL as a web service, dissecting it into its components (web service address and web service parameters). We also switch to using the Python `requests` package to handle the interaction, as it's slightly more user friendly than the `urllib` package. "
   ]
  },
  {
   "cell_type": "markdown",
   "metadata": {},
   "source": [
    "The URL listing current discharge conditions in the Eno near Durham gage site is here: \n",
    "```html\n",
    "http://waterdata.usgs.gov/nwis/uv?cb_00060=on&cb_00065=on&format=rdb&site_no=02085070&period=1&begin_date=&end_date=\n",
    "```"
   ]
  },
  {
   "cell_type": "markdown",
   "metadata": {},
   "source": [
    "As you'll see in the example below, the `requests` package constructs a web service request with two parameters. The first is the full service address (`http://waterdata.usgs.gov/nwis/uv`), which is followed by the set of service parameters, passed as a Python dictionary."
   ]
  },
  {
   "cell_type": "code",
   "execution_count": 1,
   "metadata": {},
   "outputs": [],
   "source": [
    "#import packages\n",
    "import requests"
   ]
  },
  {
   "cell_type": "code",
   "execution_count": 2,
   "metadata": {},
   "outputs": [],
   "source": [
    "#dissect the URL into it's components, for easy comprehension -- and easy modification\n",
    "serviceURL = 'http://waterdata.usgs.gov/nwis/uv'\n",
    "parameters = {'cb_00060':'on',\n",
    "              'cb_00065':'on',\n",
    "              'format':'rdb',\n",
    "              'period':'1',\n",
    "              'site_no':'02085039',\n",
    "              'begin_date':'',\n",
    "              'end_date':''\n",
    "             }"
   ]
  },
  {
   "cell_type": "markdown",
   "metadata": {},
   "source": [
    "Ok, here we send the request, storing the response in a variable called `response`. The second line extacts the response as raw text into the variable `responseText`."
   ]
  },
  {
   "cell_type": "code",
   "execution_count": 4,
   "metadata": {},
   "outputs": [],
   "source": [
    "#Pass the url and its parameters to the server and get its response\n",
    "response = requests.get(serviceURL, parameters)\n",
    "responseText = response.text"
   ]
  },
  {
   "cell_type": "code",
   "execution_count": 5,
   "metadata": {
    "scrolled": true
   },
   "outputs": [
    {
     "name": "stdout",
     "output_type": "stream",
     "text": [
      "# ---------------------------------- WARNING ----------------------------------------\n",
      "# Some of the data that you have obtained from this U.S. Geological Survey database\n",
      "# may not have received Director's approval. Any such data values are qualified\n",
      "# as provisional and are subject to revision. Provisional data are released on the\n",
      "# condition that neither the USGS nor the United States Government may be held liable\n",
      "# for any damages resulting from its use.\n",
      "#\n",
      "# Additional info: https://help.waterdata.usgs.gov/policies/provisional-data-statement\n",
      "#\n",
      "# File-format description:  https://help.waterdata.usgs.gov/faq/about-tab-delimited-output\n",
      "# Automated-retrieval info: https://help.waterdata.usgs.gov/faq/automated-retrievals\n",
      "#\n",
      "# Contact:   gs-w_support_nwisweb@usgs.gov\n",
      "# retrieved: 2018-11-07 20:02:19 EST       (caww02)\n",
      "#\n",
      "# Data for the following 1 site(s) are contained in this file\n",
      "#    USGS 02085039 ENO RIVER AT COLE MILL RD NR HUCKLEBERRY SPRING\n",
      "# -----------------------------------------------------------------------------------\n",
      "#\n",
      "# Data provided for site 02085039\n",
      "#            TS   parameter     Description\n",
      "#         89060       00065     Gage height, feet\n",
      "#\n",
      "# Data-value qualification codes included in this output:\n",
      "#     P  Provisional data subject to revision.\n",
      "# \n",
      "agency_cd\tsite_no\tdatetime\ttz_cd\t89060_00065\t89060_00065_cd\n",
      "5s\t15s\t20d\t6s\t14n\t10s\n",
      "USGS\t02085039\t2018-11-06 00:00\tEST\t4.35\tP\n",
      "USGS\t02085039\t2018-11-06 00:15\tEST\t4.34\tP\n",
      "USGS\t02085039\t2018-11-06 00:30\tEST\t4.32\tP\n",
      "USGS\t02085039\t2018-11-06 00:45\tEST\t4.31\tP\n",
      "USGS\t02085039\t2018-11-06 01:00\tEST\t4.29\tP\n",
      "USGS\t02085039\t2018-11-06 01:15\tEST\t4.26\tP\n",
      "USGS\t02085039\t2018-11-06 01:30\tEST\t4.24\tP\n",
      "USGS\t02085039\t2018-11-06 01:45\tEST\t4.24\tP\n",
      "USGS\t02085039\t2018-11-06 02:00\tEST\t4.21\tP\n",
      "USGS\t02085039\t2018-11-06 02:15\tEST\t4.20\tP\n",
      "USGS\t02085039\t2018-11-06 02:30\tEST\t4.19\tP\n",
      "USGS\t02085039\t2018-11-06 02:45\tEST\t4.18\tP\n",
      "USGS\t02085039\t2018-11-06 03:00\tEST\t4.17\tP\n",
      "USGS\t02085039\t2018-11-06 03:15\tEST\t4.15\tP\n",
      "USGS\t02085039\t2018-11-06 03:30\tEST\t4.14\tP\n",
      "USGS\t02085039\t2018-11-06 03:45\tEST\t4.11\tP\n",
      "USGS\t02085039\t2018-11-06 04:00\tEST\t4.13\tP\n",
      "USGS\t02085039\t2018-11-06 04:15\tEST\t4.12\tP\n",
      "USGS\t02085039\t2018-11-06 04:30\tEST\t4.09\tP\n",
      "USGS\t02085039\t2018-11-06 04:45\tEST\t4.09\tP\n",
      "USGS\t02085039\t2018-11-06 05:00\tEST\t4.06\tP\n",
      "USGS\t02085039\t2018-11-06 05:15\tEST\t4.06\tP\n",
      "USGS\t02085039\t2018-11-06 05:30\tEST\t4.04\tP\n",
      "USGS\t02085039\t2018-11-06 05:45\tEST\t4.03\tP\n",
      "USGS\t02085039\t2018-11-06 06:00\tEST\t4.01\tP\n",
      "USGS\t02085039\t2018-11-06 06:15\tEST\t4.01\tP\n",
      "USGS\t02085039\t2018-11-06 06:30\tEST\t4.00\tP\n",
      "USGS\t02085039\t2018-11-06 06:45\tEST\t3.99\tP\n",
      "USGS\t02085039\t2018-11-06 07:00\tEST\t3.97\tP\n",
      "USGS\t02085039\t2018-11-06 07:15\tEST\t3.97\tP\n",
      "USGS\t02085039\t2018-11-06 07:30\tEST\t3.95\tP\n",
      "USGS\t02085039\t2018-11-06 07:45\tEST\t3.93\tP\n",
      "USGS\t02085039\t2018-11-06 08:00\tEST\t3.92\tP\n",
      "USGS\t02085039\t2018-11-06 08:15\tEST\t3.92\tP\n",
      "USGS\t02085039\t2018-11-06 08:30\tEST\t3.89\tP\n",
      "USGS\t02085039\t2018-11-06 08:45\tEST\t3.89\tP\n",
      "USGS\t02085039\t2018-11-06 09:00\tEST\t3.86\tP\n",
      "USGS\t02085039\t2018-11-06 09:15\tEST\t3.86\tP\n",
      "USGS\t02085039\t2018-11-06 09:30\tEST\t3.86\tP\n",
      "USGS\t02085039\t2018-11-06 09:45\tEST\t3.84\tP\n",
      "USGS\t02085039\t2018-11-06 10:00\tEST\t3.83\tP\n",
      "USGS\t02085039\t2018-11-06 10:15\tEST\t3.81\tP\n",
      "USGS\t02085039\t2018-11-06 10:30\tEST\t3.81\tP\n",
      "USGS\t02085039\t2018-11-06 10:45\tEST\t3.79\tP\n",
      "USGS\t02085039\t2018-11-06 11:00\tEST\t3.79\tP\n",
      "USGS\t02085039\t2018-11-06 11:15\tEST\t3.77\tP\n",
      "USGS\t02085039\t2018-11-06 11:30\tEST\t3.76\tP\n",
      "USGS\t02085039\t2018-11-06 11:45\tEST\t3.75\tP\n",
      "USGS\t02085039\t2018-11-06 12:00\tEST\t3.74\tP\n",
      "USGS\t02085039\t2018-11-06 12:15\tEST\t3.73\tP\n",
      "USGS\t02085039\t2018-11-06 12:30\tEST\t3.72\tP\n",
      "USGS\t02085039\t2018-11-06 12:45\tEST\t3.71\tP\n",
      "USGS\t02085039\t2018-11-06 13:00\tEST\t3.70\tP\n",
      "USGS\t02085039\t2018-11-06 13:15\tEST\t3.69\tP\n",
      "USGS\t02085039\t2018-11-06 13:30\tEST\t3.69\tP\n",
      "USGS\t02085039\t2018-11-06 13:45\tEST\t3.67\tP\n",
      "USGS\t02085039\t2018-11-06 14:00\tEST\t3.66\tP\n",
      "USGS\t02085039\t2018-11-06 14:15\tEST\t3.66\tP\n",
      "USGS\t02085039\t2018-11-06 14:30\tEST\t3.65\tP\n",
      "USGS\t02085039\t2018-11-06 14:45\tEST\t3.64\tP\n",
      "USGS\t02085039\t2018-11-06 15:00\tEST\t3.63\tP\n",
      "USGS\t02085039\t2018-11-06 15:15\tEST\t3.62\tP\n",
      "USGS\t02085039\t2018-11-06 15:30\tEST\t3.61\tP\n",
      "USGS\t02085039\t2018-11-06 15:45\tEST\t3.61\tP\n",
      "USGS\t02085039\t2018-11-06 16:00\tEST\t3.60\tP\n",
      "USGS\t02085039\t2018-11-06 16:15\tEST\t3.60\tP\n",
      "USGS\t02085039\t2018-11-06 16:30\tEST\t3.59\tP\n",
      "USGS\t02085039\t2018-11-06 16:45\tEST\t3.58\tP\n",
      "USGS\t02085039\t2018-11-06 17:00\tEST\t3.57\tP\n",
      "USGS\t02085039\t2018-11-06 17:15\tEST\t3.56\tP\n",
      "USGS\t02085039\t2018-11-06 17:30\tEST\t3.56\tP\n",
      "USGS\t02085039\t2018-11-06 17:45\tEST\t3.55\tP\n",
      "USGS\t02085039\t2018-11-06 18:00\tEST\t3.55\tP\n",
      "USGS\t02085039\t2018-11-06 18:15\tEST\t3.53\tP\n",
      "USGS\t02085039\t2018-11-06 18:30\tEST\t3.53\tP\n",
      "USGS\t02085039\t2018-11-06 18:45\tEST\t3.52\tP\n",
      "USGS\t02085039\t2018-11-06 19:00\tEST\t3.52\tP\n",
      "USGS\t02085039\t2018-11-06 19:15\tEST\t3.52\tP\n",
      "USGS\t02085039\t2018-11-06 19:30\tEST\t3.50\tP\n",
      "USGS\t02085039\t2018-11-06 19:45\tEST\t3.50\tP\n",
      "USGS\t02085039\t2018-11-06 20:00\tEST\t3.50\tP\n",
      "USGS\t02085039\t2018-11-06 20:15\tEST\t3.49\tP\n",
      "USGS\t02085039\t2018-11-06 20:30\tEST\t3.49\tP\n",
      "USGS\t02085039\t2018-11-06 20:45\tEST\t3.48\tP\n",
      "USGS\t02085039\t2018-11-06 21:00\tEST\t3.48\tP\n",
      "USGS\t02085039\t2018-11-06 21:15\tEST\t3.47\tP\n",
      "USGS\t02085039\t2018-11-06 21:30\tEST\t3.47\tP\n",
      "USGS\t02085039\t2018-11-06 21:45\tEST\t3.47\tP\n",
      "USGS\t02085039\t2018-11-06 22:00\tEST\t3.46\tP\n",
      "USGS\t02085039\t2018-11-06 22:15\tEST\t3.46\tP\n",
      "USGS\t02085039\t2018-11-06 22:30\tEST\t3.45\tP\n",
      "USGS\t02085039\t2018-11-06 22:45\tEST\t3.45\tP\n",
      "USGS\t02085039\t2018-11-06 23:00\tEST\t3.44\tP\n",
      "USGS\t02085039\t2018-11-06 23:15\tEST\t3.44\tP\n",
      "USGS\t02085039\t2018-11-06 23:30\tEST\t3.44\tP\n",
      "USGS\t02085039\t2018-11-06 23:45\tEST\t3.44\tP\n",
      "USGS\t02085039\t2018-11-07 00:00\tEST\t3.43\tP\n",
      "USGS\t02085039\t2018-11-07 00:15\tEST\t3.43\tP\n",
      "USGS\t02085039\t2018-11-07 00:30\tEST\t3.43\tP\n",
      "USGS\t02085039\t2018-11-07 00:45\tEST\t3.42\tP\n",
      "USGS\t02085039\t2018-11-07 01:00\tEST\t3.41\tP\n",
      "USGS\t02085039\t2018-11-07 01:15\tEST\t3.41\tP\n",
      "USGS\t02085039\t2018-11-07 01:30\tEST\t3.41\tP\n",
      "USGS\t02085039\t2018-11-07 01:45\tEST\t3.40\tP\n",
      "USGS\t02085039\t2018-11-07 02:00\tEST\t3.40\tP\n",
      "USGS\t02085039\t2018-11-07 02:15\tEST\t3.40\tP\n",
      "USGS\t02085039\t2018-11-07 02:30\tEST\t3.39\tP\n",
      "USGS\t02085039\t2018-11-07 02:45\tEST\t3.39\tP\n",
      "USGS\t02085039\t2018-11-07 03:00\tEST\t3.39\tP\n",
      "USGS\t02085039\t2018-11-07 03:15\tEST\t3.38\tP\n",
      "USGS\t02085039\t2018-11-07 03:30\tEST\t3.38\tP\n",
      "USGS\t02085039\t2018-11-07 03:45\tEST\t3.38\tP\n",
      "USGS\t02085039\t2018-11-07 04:00\tEST\t3.37\tP\n",
      "USGS\t02085039\t2018-11-07 04:15\tEST\t3.36\tP\n",
      "USGS\t02085039\t2018-11-07 04:30\tEST\t3.36\tP\n",
      "USGS\t02085039\t2018-11-07 04:45\tEST\t3.35\tP\n",
      "USGS\t02085039\t2018-11-07 05:00\tEST\t3.35\tP\n",
      "USGS\t02085039\t2018-11-07 05:15\tEST\t3.35\tP\n",
      "USGS\t02085039\t2018-11-07 05:30\tEST\t3.34\tP\n",
      "USGS\t02085039\t2018-11-07 05:45\tEST\t3.34\tP\n",
      "USGS\t02085039\t2018-11-07 06:00\tEST\t3.33\tP\n",
      "USGS\t02085039\t2018-11-07 06:15\tEST\t3.33\tP\n",
      "USGS\t02085039\t2018-11-07 06:30\tEST\t3.32\tP\n",
      "USGS\t02085039\t2018-11-07 06:45\tEST\t3.32\tP\n",
      "USGS\t02085039\t2018-11-07 07:00\tEST\t3.31\tP\n",
      "USGS\t02085039\t2018-11-07 07:15\tEST\t3.32\tP\n",
      "USGS\t02085039\t2018-11-07 07:30\tEST\t3.31\tP\n",
      "USGS\t02085039\t2018-11-07 07:45\tEST\t3.30\tP\n",
      "USGS\t02085039\t2018-11-07 08:00\tEST\t3.29\tP\n",
      "USGS\t02085039\t2018-11-07 08:15\tEST\t3.29\tP\n",
      "USGS\t02085039\t2018-11-07 08:30\tEST\t3.29\tP\n",
      "USGS\t02085039\t2018-11-07 08:45\tEST\t3.28\tP\n",
      "USGS\t02085039\t2018-11-07 09:00\tEST\t3.28\tP\n",
      "USGS\t02085039\t2018-11-07 09:15\tEST\t3.27\tP\n",
      "USGS\t02085039\t2018-11-07 09:30\tEST\t3.27\tP\n",
      "USGS\t02085039\t2018-11-07 09:45\tEST\t3.27\tP\n",
      "USGS\t02085039\t2018-11-07 10:00\tEST\t3.26\tP\n",
      "USGS\t02085039\t2018-11-07 10:15\tEST\t3.25\tP\n",
      "USGS\t02085039\t2018-11-07 10:30\tEST\t3.26\tP\n",
      "USGS\t02085039\t2018-11-07 10:45\tEST\t3.25\tP\n",
      "USGS\t02085039\t2018-11-07 11:00\tEST\t3.24\tP\n",
      "USGS\t02085039\t2018-11-07 11:15\tEST\t3.25\tP\n",
      "USGS\t02085039\t2018-11-07 11:30\tEST\t3.24\tP\n",
      "USGS\t02085039\t2018-11-07 11:45\tEST\t3.24\tP\n",
      "USGS\t02085039\t2018-11-07 12:00\tEST\t3.23\tP\n",
      "USGS\t02085039\t2018-11-07 12:15\tEST\t3.22\tP\n",
      "USGS\t02085039\t2018-11-07 12:30\tEST\t3.23\tP\n",
      "USGS\t02085039\t2018-11-07 12:45\tEST\t3.22\tP\n",
      "USGS\t02085039\t2018-11-07 13:00\tEST\t3.22\tP\n",
      "USGS\t02085039\t2018-11-07 13:15\tEST\t3.22\tP\n",
      "USGS\t02085039\t2018-11-07 13:30\tEST\t3.22\tP\n",
      "USGS\t02085039\t2018-11-07 13:45\tEST\t3.21\tP\n",
      "USGS\t02085039\t2018-11-07 14:00\tEST\t3.21\tP\n",
      "USGS\t02085039\t2018-11-07 14:15\tEST\t3.20\tP\n",
      "USGS\t02085039\t2018-11-07 14:30\tEST\t3.20\tP\n",
      "USGS\t02085039\t2018-11-07 14:45\tEST\t3.19\tP\n",
      "USGS\t02085039\t2018-11-07 15:00\tEST\t3.19\tP\n",
      "USGS\t02085039\t2018-11-07 15:15\tEST\t3.19\tP\n",
      "USGS\t02085039\t2018-11-07 15:30\tEST\t3.18\tP\n",
      "USGS\t02085039\t2018-11-07 15:45\tEST\t3.18\tP\n",
      "USGS\t02085039\t2018-11-07 16:00\tEST\t3.18\tP\n",
      "USGS\t02085039\t2018-11-07 16:15\tEST\t3.17\tP\n",
      "USGS\t02085039\t2018-11-07 16:30\tEST\t3.17\tP\n",
      "USGS\t02085039\t2018-11-07 16:45\tEST\t3.17\tP\n",
      "USGS\t02085039\t2018-11-07 17:00\tEST\t3.17\tP\n",
      "USGS\t02085039\t2018-11-07 17:15\tEST\t3.16\tP\n",
      "USGS\t02085039\t2018-11-07 17:30\tEST\t3.15\tP\n",
      "USGS\t02085039\t2018-11-07 17:45\tEST\t3.15\tP\n",
      "USGS\t02085039\t2018-11-07 18:00\tEST\t3.15\tP\n",
      "USGS\t02085039\t2018-11-07 18:15\tEST\t3.15\tP\n",
      "USGS\t02085039\t2018-11-07 18:30\tEST\t3.14\tP\n",
      "USGS\t02085039\t2018-11-07 18:45\tEST\t3.14\tP\n",
      "USGS\t02085039\t2018-11-07 19:00\tEST\t3.14\tP\n",
      "\n"
     ]
    }
   ],
   "source": [
    "#What did we get? \n",
    "print(responseText)"
   ]
  },
  {
   "cell_type": "markdown",
   "metadata": {},
   "source": [
    "If you scroll all the way to the last line in the file, you get the most recent reading. We can use some Python to print out what this reading is... "
   ]
  },
  {
   "cell_type": "code",
   "execution_count": 6,
   "metadata": {},
   "outputs": [
    {
     "name": "stdout",
     "output_type": "stream",
     "text": [
      "Site 02085039 recorded a discharge of 3.14 cfs on 2018-11-07 19:00\n"
     ]
    }
   ],
   "source": [
    "#Convert the response text into a list of lines and print the second to last line\n",
    "responseLines = responseText.split('\\n')\n",
    "lastRecord = responseLines[-2].split('\\t')\n",
    "site = lastRecord[1]\n",
    "cfs = lastRecord[4]\n",
    "date = lastRecord[2]\n",
    "print(\"Site {0} recorded a discharge of {1} cfs on {2}\".format(site,cfs,date))"
   ]
  },
  {
   "cell_type": "markdown",
   "metadata": {},
   "source": [
    "► **EXERCISE**: The 3 code blocks below are copies of the ones above. Modify these code blocks to get data for site 02085039 (Eno River At Cole Mill Rd Nr Huckleberry Spring), and print out its most recent *gage height* (in feet):"
   ]
  },
  {
   "cell_type": "code",
   "execution_count": 9,
   "metadata": {},
   "outputs": [],
   "source": [
    "#dissect the URL into it's components, for easy comprehension -- and easy modification\n",
    "serviceURL = 'http://waterdata.usgs.gov/nwis/uv'\n",
    "parameters = {'cb_00060':'on',\n",
    "              'cb_00065':'on',\n",
    "              'format':'rdb',\n",
    "              'period':'1',\n",
    "              'site_no':'02085039',\n",
    "              'begin_date':'',\n",
    "              'end_date':''\n",
    "             }"
   ]
  },
  {
   "cell_type": "code",
   "execution_count": 10,
   "metadata": {},
   "outputs": [],
   "source": [
    "#Pass the url and its parameters to the server and get its response\n",
    "response = requests.get(serviceURL, parameters)\n",
    "responseText = response.text"
   ]
  },
  {
   "cell_type": "code",
   "execution_count": 11,
   "metadata": {},
   "outputs": [
    {
     "name": "stdout",
     "output_type": "stream",
     "text": [
      "Site 02085039 recorded a discharge of 3.14 cfs on 2018-11-07 19:00\n"
     ]
    }
   ],
   "source": [
    "#Convert the response text into a list of lines and print the second to last line\n",
    "responseLines = responseText.split('\\n')\n",
    "lastRecord = responseLines[-2].split('\\t')\n",
    "site = lastRecord[1]\n",
    "cfs = lastRecord[4]\n",
    "date = lastRecord[2]\n",
    "print(\"Site {0} recorded a discharge of {1} cfs on {2}\".format(site,cfs,date))"
   ]
  },
  {
   "cell_type": "code",
   "execution_count": null,
   "metadata": {},
   "outputs": [],
   "source": []
  }
 ],
 "metadata": {
  "kernelspec": {
   "display_name": "Python 3",
   "language": "python",
   "name": "python3"
  },
  "language_info": {
   "codemirror_mode": {
    "name": "ipython",
    "version": 3
   },
   "file_extension": ".py",
   "mimetype": "text/x-python",
   "name": "python",
   "nbconvert_exporter": "python",
   "pygments_lexer": "ipython3",
   "version": "3.6.6"
  }
 },
 "nbformat": 4,
 "nbformat_minor": 2
}
